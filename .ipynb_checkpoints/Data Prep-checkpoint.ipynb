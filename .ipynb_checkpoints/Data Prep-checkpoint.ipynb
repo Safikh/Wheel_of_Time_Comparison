{
 "cells": [
  {
   "cell_type": "code",
   "execution_count": 9,
   "metadata": {},
   "outputs": [],
   "source": [
    "import pandas as pd\n",
    "import os"
   ]
  },
  {
   "cell_type": "code",
   "execution_count": 10,
   "metadata": {},
   "outputs": [
    {
     "name": "stdout",
     "output_type": "stream",
     "text": [
      "['1.The Eye of the World.txt', '10.Crossroads of Twilight.txt', '11.Knife of Dreams.txt', '12.The Gathering Storm.txt', '13.Towers of Midnight.txt', '14.A Memory of Light.txt', '2.The Great Hunt.txt', '3.The Dragon Reborn.txt', '4.The Shadow Rising.txt', '5.The Fires of Heaven.txt', '6.Lord of Chaos.txt', '7.A Crown of Swords.txt', '8.The Path of Daggers.txt', \"9.Winter's Heart.txt\"]\n"
     ]
    }
   ],
   "source": [
    "path = 'data/Wheel of Time/txt'\n",
    "file_list = os.listdir(path)\n",
    "print(file_list)"
   ]
  },
  {
   "cell_type": "code",
   "execution_count": 11,
   "metadata": {},
   "outputs": [],
   "source": [
    "book_number = []\n",
    "title = []\n",
    "for filename in file_list:\n",
    "    book_number.append(int(filename.split('.')[0]))\n",
    "    title.append(filename.split('.')[1])"
   ]
  },
  {
   "cell_type": "code",
   "execution_count": 12,
   "metadata": {},
   "outputs": [
    {
     "name": "stdout",
     "output_type": "stream",
     "text": [
      "1.The Eye of the World.txt 1 The Eye of the World\n",
      "10.Crossroads of Twilight.txt 10 Crossroads of Twilight\n",
      "11.Knife of Dreams.txt 11 Knife of Dreams\n",
      "12.The Gathering Storm.txt 12 The Gathering Storm\n",
      "13.Towers of Midnight.txt 13 Towers of Midnight\n",
      "14.A Memory of Light.txt 14 A Memory of Light\n",
      "2.The Great Hunt.txt 2 The Great Hunt\n",
      "3.The Dragon Reborn.txt 3 The Dragon Reborn\n",
      "4.The Shadow Rising.txt 4 The Shadow Rising\n",
      "5.The Fires of Heaven.txt 5 The Fires of Heaven\n",
      "6.Lord of Chaos.txt 6 Lord of Chaos\n",
      "7.A Crown of Swords.txt 7 A Crown of Swords\n",
      "8.The Path of Daggers.txt 8 The Path of Daggers\n",
      "9.Winter's Heart.txt 9 Winter's Heart\n"
     ]
    }
   ],
   "source": [
    "for i in range(len(file_list)):\n",
    "    print(file_list[i], book_number[i], title[i])"
   ]
  },
  {
   "cell_type": "markdown",
   "metadata": {},
   "source": [
    "I took the liberty of putting Brandon Sanderson as the only Author of books 12-14 even though they had inputs and some scenes written by Robert Jordan."
   ]
  },
  {
   "cell_type": "code",
   "execution_count": 13,
   "metadata": {},
   "outputs": [],
   "source": [
    "author = []\n",
    "for num in book_number:\n",
    "    if num > 11 :\n",
    "        author.append('Brandon Sanderson')\n",
    "    else:\n",
    "        author.append('Robert Jordan')"
   ]
  },
  {
   "cell_type": "code",
   "execution_count": 14,
   "metadata": {},
   "outputs": [],
   "source": [
    "# Manually entered\n",
    "num_chapters = [53, 30, 37, 50, 57, 49, 50, 56, 58, 56, 55, 41, 31, 35]\n",
    "prologue = [1, 1, 1, 1, 1, 1, 1, 1, 0, 1, 1, 1, 1, 1]\n",
    "epilogue = [0, 1, 1, 1, 1, 1, 0, 0, 0, 0, 1, 0, 0, 0]"
   ]
  },
  {
   "cell_type": "code",
   "execution_count": 22,
   "metadata": {},
   "outputs": [],
   "source": [
    "data = dict(book_number=book_number, title=title, author=author, num_chapters=num_chapters, prologue=prologue, epilogue=epilogue, filename=file_list)"
   ]
  },
  {
   "cell_type": "code",
   "execution_count": 23,
   "metadata": {},
   "outputs": [],
   "source": [
    "data = pd.DataFrame(data)"
   ]
  },
  {
   "cell_type": "code",
   "execution_count": 24,
   "metadata": {},
   "outputs": [
    {
     "data": {
      "text/html": [
       "<div>\n",
       "<style scoped>\n",
       "    .dataframe tbody tr th:only-of-type {\n",
       "        vertical-align: middle;\n",
       "    }\n",
       "\n",
       "    .dataframe tbody tr th {\n",
       "        vertical-align: top;\n",
       "    }\n",
       "\n",
       "    .dataframe thead th {\n",
       "        text-align: right;\n",
       "    }\n",
       "</style>\n",
       "<table border=\"1\" class=\"dataframe\">\n",
       "  <thead>\n",
       "    <tr style=\"text-align: right;\">\n",
       "      <th></th>\n",
       "      <th>book_number</th>\n",
       "      <th>title</th>\n",
       "      <th>author</th>\n",
       "      <th>num_chapters</th>\n",
       "      <th>prologue</th>\n",
       "      <th>epilogue</th>\n",
       "      <th>filename</th>\n",
       "    </tr>\n",
       "  </thead>\n",
       "  <tbody>\n",
       "    <tr>\n",
       "      <th>0</th>\n",
       "      <td>1</td>\n",
       "      <td>The Eye of the World</td>\n",
       "      <td>Robert Jordan</td>\n",
       "      <td>53</td>\n",
       "      <td>1</td>\n",
       "      <td>0</td>\n",
       "      <td>1.The Eye of the World.txt</td>\n",
       "    </tr>\n",
       "    <tr>\n",
       "      <th>1</th>\n",
       "      <td>10</td>\n",
       "      <td>Crossroads of Twilight</td>\n",
       "      <td>Robert Jordan</td>\n",
       "      <td>30</td>\n",
       "      <td>1</td>\n",
       "      <td>1</td>\n",
       "      <td>10.Crossroads of Twilight.txt</td>\n",
       "    </tr>\n",
       "    <tr>\n",
       "      <th>2</th>\n",
       "      <td>11</td>\n",
       "      <td>Knife of Dreams</td>\n",
       "      <td>Robert Jordan</td>\n",
       "      <td>37</td>\n",
       "      <td>1</td>\n",
       "      <td>1</td>\n",
       "      <td>11.Knife of Dreams.txt</td>\n",
       "    </tr>\n",
       "    <tr>\n",
       "      <th>3</th>\n",
       "      <td>12</td>\n",
       "      <td>The Gathering Storm</td>\n",
       "      <td>Brandon Sanderson</td>\n",
       "      <td>50</td>\n",
       "      <td>1</td>\n",
       "      <td>1</td>\n",
       "      <td>12.The Gathering Storm.txt</td>\n",
       "    </tr>\n",
       "    <tr>\n",
       "      <th>4</th>\n",
       "      <td>13</td>\n",
       "      <td>Towers of Midnight</td>\n",
       "      <td>Brandon Sanderson</td>\n",
       "      <td>57</td>\n",
       "      <td>1</td>\n",
       "      <td>1</td>\n",
       "      <td>13.Towers of Midnight.txt</td>\n",
       "    </tr>\n",
       "    <tr>\n",
       "      <th>5</th>\n",
       "      <td>14</td>\n",
       "      <td>A Memory of Light</td>\n",
       "      <td>Brandon Sanderson</td>\n",
       "      <td>49</td>\n",
       "      <td>1</td>\n",
       "      <td>1</td>\n",
       "      <td>14.A Memory of Light.txt</td>\n",
       "    </tr>\n",
       "    <tr>\n",
       "      <th>6</th>\n",
       "      <td>2</td>\n",
       "      <td>The Great Hunt</td>\n",
       "      <td>Robert Jordan</td>\n",
       "      <td>50</td>\n",
       "      <td>1</td>\n",
       "      <td>0</td>\n",
       "      <td>2.The Great Hunt.txt</td>\n",
       "    </tr>\n",
       "    <tr>\n",
       "      <th>7</th>\n",
       "      <td>3</td>\n",
       "      <td>The Dragon Reborn</td>\n",
       "      <td>Robert Jordan</td>\n",
       "      <td>56</td>\n",
       "      <td>1</td>\n",
       "      <td>0</td>\n",
       "      <td>3.The Dragon Reborn.txt</td>\n",
       "    </tr>\n",
       "    <tr>\n",
       "      <th>8</th>\n",
       "      <td>4</td>\n",
       "      <td>The Shadow Rising</td>\n",
       "      <td>Robert Jordan</td>\n",
       "      <td>58</td>\n",
       "      <td>0</td>\n",
       "      <td>0</td>\n",
       "      <td>4.The Shadow Rising.txt</td>\n",
       "    </tr>\n",
       "    <tr>\n",
       "      <th>9</th>\n",
       "      <td>5</td>\n",
       "      <td>The Fires of Heaven</td>\n",
       "      <td>Robert Jordan</td>\n",
       "      <td>56</td>\n",
       "      <td>1</td>\n",
       "      <td>0</td>\n",
       "      <td>5.The Fires of Heaven.txt</td>\n",
       "    </tr>\n",
       "    <tr>\n",
       "      <th>10</th>\n",
       "      <td>6</td>\n",
       "      <td>Lord of Chaos</td>\n",
       "      <td>Robert Jordan</td>\n",
       "      <td>55</td>\n",
       "      <td>1</td>\n",
       "      <td>1</td>\n",
       "      <td>6.Lord of Chaos.txt</td>\n",
       "    </tr>\n",
       "    <tr>\n",
       "      <th>11</th>\n",
       "      <td>7</td>\n",
       "      <td>A Crown of Swords</td>\n",
       "      <td>Robert Jordan</td>\n",
       "      <td>41</td>\n",
       "      <td>1</td>\n",
       "      <td>0</td>\n",
       "      <td>7.A Crown of Swords.txt</td>\n",
       "    </tr>\n",
       "    <tr>\n",
       "      <th>12</th>\n",
       "      <td>8</td>\n",
       "      <td>The Path of Daggers</td>\n",
       "      <td>Robert Jordan</td>\n",
       "      <td>31</td>\n",
       "      <td>1</td>\n",
       "      <td>0</td>\n",
       "      <td>8.The Path of Daggers.txt</td>\n",
       "    </tr>\n",
       "    <tr>\n",
       "      <th>13</th>\n",
       "      <td>9</td>\n",
       "      <td>Winter's Heart</td>\n",
       "      <td>Robert Jordan</td>\n",
       "      <td>35</td>\n",
       "      <td>1</td>\n",
       "      <td>0</td>\n",
       "      <td>9.Winter's Heart.txt</td>\n",
       "    </tr>\n",
       "  </tbody>\n",
       "</table>\n",
       "</div>"
      ],
      "text/plain": [
       "    book_number                   title             author  num_chapters  \\\n",
       "0             1    The Eye of the World      Robert Jordan            53   \n",
       "1            10  Crossroads of Twilight      Robert Jordan            30   \n",
       "2            11         Knife of Dreams      Robert Jordan            37   \n",
       "3            12     The Gathering Storm  Brandon Sanderson            50   \n",
       "4            13      Towers of Midnight  Brandon Sanderson            57   \n",
       "5            14       A Memory of Light  Brandon Sanderson            49   \n",
       "6             2          The Great Hunt      Robert Jordan            50   \n",
       "7             3       The Dragon Reborn      Robert Jordan            56   \n",
       "8             4       The Shadow Rising      Robert Jordan            58   \n",
       "9             5     The Fires of Heaven      Robert Jordan            56   \n",
       "10            6           Lord of Chaos      Robert Jordan            55   \n",
       "11            7       A Crown of Swords      Robert Jordan            41   \n",
       "12            8     The Path of Daggers      Robert Jordan            31   \n",
       "13            9          Winter's Heart      Robert Jordan            35   \n",
       "\n",
       "    prologue  epilogue                       filename  \n",
       "0          1         0     1.The Eye of the World.txt  \n",
       "1          1         1  10.Crossroads of Twilight.txt  \n",
       "2          1         1         11.Knife of Dreams.txt  \n",
       "3          1         1     12.The Gathering Storm.txt  \n",
       "4          1         1      13.Towers of Midnight.txt  \n",
       "5          1         1       14.A Memory of Light.txt  \n",
       "6          1         0           2.The Great Hunt.txt  \n",
       "7          1         0        3.The Dragon Reborn.txt  \n",
       "8          0         0        4.The Shadow Rising.txt  \n",
       "9          1         0      5.The Fires of Heaven.txt  \n",
       "10         1         1            6.Lord of Chaos.txt  \n",
       "11         1         0        7.A Crown of Swords.txt  \n",
       "12         1         0      8.The Path of Daggers.txt  \n",
       "13         1         0           9.Winter's Heart.txt  "
      ]
     },
     "execution_count": 24,
     "metadata": {},
     "output_type": "execute_result"
    }
   ],
   "source": [
    "data"
   ]
  },
  {
   "cell_type": "code",
   "execution_count": 25,
   "metadata": {},
   "outputs": [],
   "source": [
    "data.to_csv('data/details.csv', index=None)"
   ]
  }
 ],
 "metadata": {
  "kernelspec": {
   "display_name": "Python 3",
   "language": "python",
   "name": "python3"
  },
  "language_info": {
   "codemirror_mode": {
    "name": "ipython",
    "version": 3
   },
   "file_extension": ".py",
   "mimetype": "text/x-python",
   "name": "python",
   "nbconvert_exporter": "python",
   "pygments_lexer": "ipython3",
   "version": "3.7.6"
  }
 },
 "nbformat": 4,
 "nbformat_minor": 4
}
